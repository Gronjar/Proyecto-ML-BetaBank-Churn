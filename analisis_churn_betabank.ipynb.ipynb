{
 "cells": [
  {
   "cell_type": "markdown",
   "metadata": {},
   "source": [
    "----"
   ]
  },
  {
   "cell_type": "code",
   "execution_count": 52,
   "metadata": {
    "trusted": false
   },
   "outputs": [
    {
     "data": {
      "text/html": [
       "<div>\n",
       "<style scoped>\n",
       "    .dataframe tbody tr th:only-of-type {\n",
       "        vertical-align: middle;\n",
       "    }\n",
       "\n",
       "    .dataframe tbody tr th {\n",
       "        vertical-align: top;\n",
       "    }\n",
       "\n",
       "    .dataframe thead th {\n",
       "        text-align: right;\n",
       "    }\n",
       "</style>\n",
       "<table border=\"1\" class=\"dataframe\">\n",
       "  <thead>\n",
       "    <tr style=\"text-align: right;\">\n",
       "      <th></th>\n",
       "      <th>RowNumber</th>\n",
       "      <th>CustomerId</th>\n",
       "      <th>Surname</th>\n",
       "      <th>CreditScore</th>\n",
       "      <th>Geography</th>\n",
       "      <th>Gender</th>\n",
       "      <th>Age</th>\n",
       "      <th>Tenure</th>\n",
       "      <th>Balance</th>\n",
       "      <th>NumOfProducts</th>\n",
       "      <th>HasCrCard</th>\n",
       "      <th>IsActiveMember</th>\n",
       "      <th>EstimatedSalary</th>\n",
       "      <th>Exited</th>\n",
       "    </tr>\n",
       "  </thead>\n",
       "  <tbody>\n",
       "    <tr>\n",
       "      <th>0</th>\n",
       "      <td>1</td>\n",
       "      <td>15634602</td>\n",
       "      <td>Hargrave</td>\n",
       "      <td>619</td>\n",
       "      <td>France</td>\n",
       "      <td>Female</td>\n",
       "      <td>42</td>\n",
       "      <td>2.0</td>\n",
       "      <td>0.00</td>\n",
       "      <td>1</td>\n",
       "      <td>1</td>\n",
       "      <td>1</td>\n",
       "      <td>101348.88</td>\n",
       "      <td>1</td>\n",
       "    </tr>\n",
       "    <tr>\n",
       "      <th>1</th>\n",
       "      <td>2</td>\n",
       "      <td>15647311</td>\n",
       "      <td>Hill</td>\n",
       "      <td>608</td>\n",
       "      <td>Spain</td>\n",
       "      <td>Female</td>\n",
       "      <td>41</td>\n",
       "      <td>1.0</td>\n",
       "      <td>83807.86</td>\n",
       "      <td>1</td>\n",
       "      <td>0</td>\n",
       "      <td>1</td>\n",
       "      <td>112542.58</td>\n",
       "      <td>0</td>\n",
       "    </tr>\n",
       "    <tr>\n",
       "      <th>2</th>\n",
       "      <td>3</td>\n",
       "      <td>15619304</td>\n",
       "      <td>Onio</td>\n",
       "      <td>502</td>\n",
       "      <td>France</td>\n",
       "      <td>Female</td>\n",
       "      <td>42</td>\n",
       "      <td>8.0</td>\n",
       "      <td>159660.80</td>\n",
       "      <td>3</td>\n",
       "      <td>1</td>\n",
       "      <td>0</td>\n",
       "      <td>113931.57</td>\n",
       "      <td>1</td>\n",
       "    </tr>\n",
       "    <tr>\n",
       "      <th>3</th>\n",
       "      <td>4</td>\n",
       "      <td>15701354</td>\n",
       "      <td>Boni</td>\n",
       "      <td>699</td>\n",
       "      <td>France</td>\n",
       "      <td>Female</td>\n",
       "      <td>39</td>\n",
       "      <td>1.0</td>\n",
       "      <td>0.00</td>\n",
       "      <td>2</td>\n",
       "      <td>0</td>\n",
       "      <td>0</td>\n",
       "      <td>93826.63</td>\n",
       "      <td>0</td>\n",
       "    </tr>\n",
       "    <tr>\n",
       "      <th>4</th>\n",
       "      <td>5</td>\n",
       "      <td>15737888</td>\n",
       "      <td>Mitchell</td>\n",
       "      <td>850</td>\n",
       "      <td>Spain</td>\n",
       "      <td>Female</td>\n",
       "      <td>43</td>\n",
       "      <td>2.0</td>\n",
       "      <td>125510.82</td>\n",
       "      <td>1</td>\n",
       "      <td>1</td>\n",
       "      <td>1</td>\n",
       "      <td>79084.10</td>\n",
       "      <td>0</td>\n",
       "    </tr>\n",
       "  </tbody>\n",
       "</table>\n",
       "</div>"
      ],
      "text/plain": [
       "   RowNumber  CustomerId   Surname  CreditScore Geography  Gender  Age  \\\n",
       "0          1    15634602  Hargrave          619    France  Female   42   \n",
       "1          2    15647311      Hill          608     Spain  Female   41   \n",
       "2          3    15619304      Onio          502    France  Female   42   \n",
       "3          4    15701354      Boni          699    France  Female   39   \n",
       "4          5    15737888  Mitchell          850     Spain  Female   43   \n",
       "\n",
       "   Tenure    Balance  NumOfProducts  HasCrCard  IsActiveMember  \\\n",
       "0     2.0       0.00              1          1               1   \n",
       "1     1.0   83807.86              1          0               1   \n",
       "2     8.0  159660.80              3          1               0   \n",
       "3     1.0       0.00              2          0               0   \n",
       "4     2.0  125510.82              1          1               1   \n",
       "\n",
       "   EstimatedSalary  Exited  \n",
       "0        101348.88       1  \n",
       "1        112542.58       0  \n",
       "2        113931.57       1  \n",
       "3         93826.63       0  \n",
       "4         79084.10       0  "
      ]
     },
     "execution_count": 52,
     "metadata": {},
     "output_type": "execute_result"
    }
   ],
   "source": [
    "import pandas as pd\n",
    "from sklearn.model_selection import train_test_split\n",
    "from sklearn.ensemble import RandomForestClassifier\n",
    "from sklearn.metrics import f1_score, roc_auc_score\n",
    "from sklearn.ensemble import RandomForestClassifier\n",
    "from sklearn.metrics import classification_report\n",
    "import matplotlib.pyplot as plt\n",
    "from sklearn.utils import resample\n",
    "\n",
    "\n",
    "\n",
    "\n",
    "\n",
    "# Se Cargan el Data set\n",
    "df = pd.read_csv('/datasets/Churn.csv')\n",
    "\n",
    "# Se inspeciona los datos de la dataframe\n",
    "df.head()\n"
   ]
  },
  {
   "cell_type": "code",
   "execution_count": 53,
   "metadata": {
    "trusted": false
   },
   "outputs": [
    {
     "name": "stdout",
     "output_type": "stream",
     "text": [
      "<class 'pandas.core.frame.DataFrame'>\n",
      "RangeIndex: 10000 entries, 0 to 9999\n",
      "Data columns (total 14 columns):\n",
      " #   Column           Non-Null Count  Dtype  \n",
      "---  ------           --------------  -----  \n",
      " 0   RowNumber        10000 non-null  int64  \n",
      " 1   CustomerId       10000 non-null  int64  \n",
      " 2   Surname          10000 non-null  object \n",
      " 3   CreditScore      10000 non-null  int64  \n",
      " 4   Geography        10000 non-null  object \n",
      " 5   Gender           10000 non-null  object \n",
      " 6   Age              10000 non-null  int64  \n",
      " 7   Tenure           9091 non-null   float64\n",
      " 8   Balance          10000 non-null  float64\n",
      " 9   NumOfProducts    10000 non-null  int64  \n",
      " 10  HasCrCard        10000 non-null  int64  \n",
      " 11  IsActiveMember   10000 non-null  int64  \n",
      " 12  EstimatedSalary  10000 non-null  float64\n",
      " 13  Exited           10000 non-null  int64  \n",
      "dtypes: float64(3), int64(8), object(3)\n",
      "memory usage: 1.1+ MB\n"
     ]
    }
   ],
   "source": [
    "#valores nulos\n",
    "df.isnull().sum()\n",
    "\n",
    "# Verificar tipos de datos\n",
    "df.info()\n"
   ]
  },
  {
   "cell_type": "code",
   "execution_count": 54,
   "metadata": {
    "trusted": false
   },
   "outputs": [
    {
     "data": {
      "text/plain": [
       "CreditScore        0\n",
       "Geography          0\n",
       "Gender             0\n",
       "Age                0\n",
       "Tenure             0\n",
       "Balance            0\n",
       "NumOfProducts      0\n",
       "HasCrCard          0\n",
       "IsActiveMember     0\n",
       "EstimatedSalary    0\n",
       "Exited             0\n",
       "dtype: int64"
      ]
     },
     "execution_count": 54,
     "metadata": {},
     "output_type": "execute_result"
    }
   ],
   "source": [
    "# Se Eliminan columnas irrelevantes\n",
    "df = df.drop(columns=['RowNumber', 'CustomerId', 'Surname'])\n",
    "\n",
    "# Imputación de valores nulos con la media para las columnas n\n",
    "df.fillna(df.mean(), inplace=True)\n",
    "\n",
    "# Verificación después de la imputación\n",
    "df.isnull().sum()\n"
   ]
  },
  {
   "cell_type": "code",
   "execution_count": 55,
   "metadata": {
    "trusted": false
   },
   "outputs": [],
   "source": [
    "# Codifico variables categoricas\n",
    "df = pd.get_dummies(df, columns=['Geography', 'Gender'], drop_first=True)\n"
   ]
  },
  {
   "cell_type": "markdown",
   "metadata": {},
   "source": [
    "<div class=\"alert alert-block alert-success\">\n",
    "<b>Comentario del revisor (1ra Iteración)</b> <a class=“tocSkip”></a>\n",
    "\n",
    "Buen trabajo convirtiendo los datos categóricos a numéricos.\n",
    "\n",
    "</div>"
   ]
  },
  {
   "cell_type": "code",
   "execution_count": 56,
   "metadata": {
    "trusted": false
   },
   "outputs": [],
   "source": [
    "X = df.drop(columns=['Exited'])  # Características\n",
    "y = df['Exited']  # Etiqueta (variable objetivo)\n"
   ]
  },
  {
   "cell_type": "code",
   "execution_count": 57,
   "metadata": {
    "trusted": false
   },
   "outputs": [
    {
     "data": {
      "text/plain": [
       "0    0.7963\n",
       "1    0.2037\n",
       "Name: Exited, dtype: float64"
      ]
     },
     "execution_count": 57,
     "metadata": {},
     "output_type": "execute_result"
    }
   ],
   "source": [
    "# Ver el Equilibrio de clases\n",
    "y.value_counts(normalize=True)\n",
    "\n"
   ]
  },
  {
   "cell_type": "code",
   "execution_count": 58,
   "metadata": {
    "trusted": false
   },
   "outputs": [
    {
     "data": {
      "image/png": "[encoded data removed]",
      "text/plain": [
       "<Figure size 640x480 with 1 Axes>"
      ]
     },
     "metadata": {},
     "output_type": "display_data"
    }
   ],
   "source": [
    "#Se crea grafica para visualizar datos\n",
    "\n",
    "class_counts = df['Exited'].value_counts()\n",
    "\n",
    "class_counts.plot(kind='bar', color=['skyblue', 'salmon'])\n",
    "\n",
    "# Añadir títulos y etiquetas\n",
    "plt.title('Distribución de Clientes que Abandonaron el Banco')\n",
    "plt.xlabel('Clase (0 = No, 1 = Sí)')\n",
    "plt.ylabel('Cantidad de Clientes')\n",
    "plt.xticks(ticks=[0, 1], labels=['No Abandonaron', 'Abandonaron'], rotation=0)\n",
    "plt.show()\n",
    "\n"
   ]
  },
  {
   "cell_type": "code",
   "execution_count": 59,
   "metadata": {
    "trusted": false
   },
   "outputs": [],
   "source": [
    "# Dividir el conjunto de datos en entrenamiento y prueba\n",
    "X_train, X_test, y_train, y_test = train_test_split(X, y, test_size=0.2, random_state=42)\n"
   ]
  },
  {
   "cell_type": "code",
   "execution_count": 60,
   "metadata": {
    "trusted": false
   },
   "outputs": [
    {
     "name": "stdout",
     "output_type": "stream",
     "text": [
      "Distribución de clases después del undersampling:\n",
      " 0    0.5\n",
      "1    0.5\n",
      "Name: Exited, dtype: float64\n"
     ]
    }
   ],
   "source": [
    "#UNDERSAMPLING\n",
    "\n",
    "# Concatenar los datos de entrenamiento para hacer el balanceo\n",
    "train_data = pd.concat([X_train, y_train], axis=1)\n",
    "\n",
    "# Separar clases mayoritaria y minoritaria\n",
    "majority_class = train_data[train_data['Exited'] == 0]\n",
    "minority_class = train_data[train_data['Exited'] == 1]\n",
    "\n",
    "# Submuestrear la clase mayoritaria\n",
    "majority_downsampled = resample(majority_class, \n",
    "                                replace=False,  # No hacer réplicas\n",
    "                                n_samples=len(minority_class),  # Igualar tamano a la clase minoritaria\n",
    "                                random_state=42)\n",
    "\n",
    "# Combinar clases balanceadas\n",
    "train_balanced = pd.concat([majority_downsampled, minority_class])\n",
    "\n",
    "# Separar nuevamente X e y después del balanceo\n",
    "X_train_balanced = train_balanced.drop(columns=['Exited'])\n",
    "y_train_balanced = train_balanced['Exited']\n",
    "\n",
    "print(\"Distribución de clases después del undersampling:\\n\", y_train_balanced.value_counts(normalize=True))\n"
   ]
  },
  {
   "cell_type": "code",
   "execution_count": 61,
   "metadata": {
    "trusted": false
   },
   "outputs": [
    {
     "name": "stdout",
     "output_type": "stream",
     "text": [
      "F1 Score con Logistic Regression (class_weight=\"balanced\"): 0.4195\n",
      "AUC-ROC con Logistic Regression (class_weight=\"balanced\"): 0.7179\n",
      "Matriz de confusión (class_weight=\"balanced\"):\n",
      " [[1028  579]\n",
      " [ 135  258]]\n"
     ]
    }
   ],
   "source": [
    "# Entrenamiento con regresión logistica con 'class_weight' balanceado\n",
    "lr_class_weight = LogisticRegression(class_weight='balanced', max_iter=1000)\n",
    "lr_class_weight.fit(X_train, y_train)\n",
    "\n",
    "# Realiza predicciones\n",
    "y_pred_class_weight = lr_class_weight.predict(X_test)\n",
    "\n",
    "# Calcular métricas de evaluacion\n",
    "f1_class_weight = f1_score(y_test, y_pred_class_weight)\n",
    "roc_auc_class_weight = roc_auc_score(y_test, lr_class_weight.predict_proba(X_test)[:, 1])\n",
    "\n",
    "# Mostran los resultados\n",
    "print(f'F1 Score con Logistic Regression (class_weight=\"balanced\"): {f1_class_weight:.4f}')\n",
    "print(f'AUC-ROC con Logistic Regression (class_weight=\"balanced\"): {roc_auc_class_weight:.4f}')\n",
    "\n",
    "# Matriz de confusión\n",
    "conf_matrix_class_weight = confusion_matrix(y_test, y_pred_class_weight)\n",
    "print('Matriz de confusión (class_weight=\"balanced\"):\\n', conf_matrix_class_weight)\n"
   ]
  },
  {
   "cell_type": "code",
   "execution_count": 63,
   "metadata": {
    "trusted": false
   },
   "outputs": [
    {
     "name": "stdout",
     "output_type": "stream",
     "text": [
      "F1 Score con RandomForest + Undersampling: 0.5862\n",
      "AUC-ROC con RandomForest + Undersampling: 0.8577\n",
      "Matriz de Confusión:\n",
      " [[1274  333]\n",
      " [  92  301]]\n",
      "Reporte de Clasificación:\n",
      "               precision    recall  f1-score   support\n",
      "\n",
      "           0       0.93      0.79      0.86      1607\n",
      "           1       0.47      0.77      0.59       393\n",
      "\n",
      "    accuracy                           0.79      2000\n",
      "   macro avg       0.70      0.78      0.72      2000\n",
      "weighted avg       0.84      0.79      0.80      2000\n",
      "\n"
     ]
    }
   ],
   "source": [
    "# MODEL 2: RandomForest con undersampling\n",
    "\n",
    "rf = RandomForestClassifier(n_estimators=100, random_state=42)\n",
    "rf.fit(X_train_balanced, y_train_balanced)\n",
    "\n",
    "# Predicciones\n",
    "y_pred_rf = rf.predict(X_test)\n",
    "\n",
    "# Evaluación\n",
    "f1_rf = f1_score(y_test, y_pred_rf)\n",
    "roc_auc_rf = roc_auc_score(y_test, rf.predict_proba(X_test)[:, 1])\n",
    "\n",
    "print(f'F1 Score con RandomForest + Undersampling: {f1_rf:.4f}')\n",
    "print(f'AUC-ROC con RandomForest + Undersampling: {roc_auc_rf:.4f}')\n",
    "print('Matriz de Confusión:\\n', confusion_matrix(y_test, y_pred_rf))\n",
    "print('Reporte de Clasificación:\\n', classification_report(y_test, y_pred_rf))"
   ]
  },
  {
   "cell_type": "code",
   "execution_count": null,
   "metadata": {
    "trusted": false
   },
   "outputs": [],
   "source": []
  },
  {
   "cell_type": "markdown",
   "metadata": {},
   "source": [
    "Carge de los datos, se hizo limpieza de valores nulos, la codificación de las variables categoricas, y la eliminacion de columnas irrelevantes (como RowNumber, CustomerId, Surname).Variables categoricas: Como Geography y Gender, se transformaron en variables binarias utilizando One-Hot Encoding.\n",
    "\n",
    "El equilibrio de las clases Utilicé el método value_counts() con su grafica para tener una amplia vizualisacion\n",
    "\n",
    "Sí, utilicé el método train_test_split de sklearn para dividir los datos en un 80% de entrenamiento y un 20% de prueba, asegurándome de que la división fuera aleatoria y representativa de todo el conjunto de datos.\n",
    "\n",
    "\n",
    "Trate de usarlo \"SMOTe\"imblearn  pero no me dejo mi pc ya revise eh instale y desintale pero no funciono para ver  que(clientes que abandonaron el banco). \"ModuleNotFoundError: No module named 'imblearn'\"\n",
    "\n",
    "\n",
    "\n",
    "Entrenamiento, Validacion y Pruebas Finales del Modelo entrene el modelo utilizando el conjunto de entrenamiento y evalue su rendimiento en el conjunto de prueba, utilizando validacion cruzada.  0.576 significa que el modelo tiene un rendimiento moderado, es decir, hay un equilibrio entre la precisión y el recall,.  AUC de 0.859 indica que el modelo tiene una excelente capacidad para diferenciar entre las clases, muy cercana a 1. Esto sugiere que el modelo es capaz de identificar correctamente si una instancia pertenece a la clase positiva o negativa en la mayoría de los casos."
   ]
  },
  {
   "cell_type": "markdown",
   "metadata": {},
   "source": []
  },
  {
   "cell_type": "code",
   "execution_count": null,
   "metadata": {
    "trusted": false
   },
   "outputs": [],
   "source": []
  },
  {
   "cell_type": "code",
   "execution_count": null,
   "metadata": {
    "trusted": false
   },
   "outputs": [],
   "source": []
  },
  {
   "cell_type": "code",
   "execution_count": null,
   "metadata": {
    "trusted": false
   },
   "outputs": [],
   "source": []
  }
 ],
 "metadata": {
  "ExecuteTimeLog": [
   {
    "duration": 818,
    "start_time": "2025-01-26T21:27:06.010Z"
   },
   {
    "duration": 13,
    "start_time": "2025-01-26T21:27:51.133Z"
   },
   {
    "duration": 12,
    "start_time": "2025-01-26T21:28:35.539Z"
   },
   {
    "duration": 55,
    "start_time": "2025-01-26T21:28:50.084Z"
   },
   {
    "duration": 24,
    "start_time": "2025-01-26T21:29:33.105Z"
   },
   {
    "duration": 33,
    "start_time": "2025-01-26T21:30:30.295Z"
   },
   {
    "duration": 28,
    "start_time": "2025-01-26T21:30:39.162Z"
   },
   {
    "duration": 23,
    "start_time": "2025-01-26T21:32:41.015Z"
   },
   {
    "duration": 5,
    "start_time": "2025-01-26T21:32:46.080Z"
   },
   {
    "duration": 363,
    "start_time": "2025-01-27T17:14:44.028Z"
   },
   {
    "duration": 177,
    "start_time": "2025-01-27T17:14:44.393Z"
   },
   {
    "duration": 25,
    "start_time": "2025-01-27T17:14:59.613Z"
   },
   {
    "duration": 22,
    "start_time": "2025-01-27T17:15:04.809Z"
   },
   {
    "duration": 6,
    "start_time": "2025-01-27T17:15:13.359Z"
   },
   {
    "duration": 23,
    "start_time": "2025-01-27T17:15:29.455Z"
   },
   {
    "duration": 5,
    "start_time": "2025-01-27T17:15:29.545Z"
   },
   {
    "duration": 25,
    "start_time": "2025-01-27T17:16:30.426Z"
   },
   {
    "duration": 24,
    "start_time": "2025-01-27T17:22:10.775Z"
   },
   {
    "duration": 9,
    "start_time": "2025-01-27T17:22:11.557Z"
   },
   {
    "duration": 571,
    "start_time": "2025-01-27T17:23:47.991Z"
   },
   {
    "duration": 25,
    "start_time": "2025-01-27T17:23:51.081Z"
   },
   {
    "duration": 10,
    "start_time": "2025-01-27T17:23:51.530Z"
   },
   {
    "duration": 9,
    "start_time": "2025-01-27T17:23:52.856Z"
   },
   {
    "duration": 7,
    "start_time": "2025-01-27T17:23:55.859Z"
   },
   {
    "duration": 90,
    "start_time": "2025-01-27T17:23:56.937Z"
   },
   {
    "duration": 20,
    "start_time": "2025-01-27T17:24:54.734Z"
   },
   {
    "duration": 16,
    "start_time": "2025-01-27T17:24:56.242Z"
   },
   {
    "duration": 24,
    "start_time": "2025-01-27T17:25:01.480Z"
   },
   {
    "duration": 7,
    "start_time": "2025-01-27T17:25:01.700Z"
   },
   {
    "duration": 5,
    "start_time": "2025-01-27T17:25:02.331Z"
   },
   {
    "duration": 7,
    "start_time": "2025-01-27T17:25:02.350Z"
   },
   {
    "duration": 107,
    "start_time": "2025-01-27T17:25:02.817Z"
   },
   {
    "duration": 15,
    "start_time": "2025-01-27T17:25:03.251Z"
   },
   {
    "duration": 13,
    "start_time": "2025-01-27T17:25:03.804Z"
   },
   {
    "duration": 23,
    "start_time": "2025-01-27T17:47:22.422Z"
   },
   {
    "duration": 8,
    "start_time": "2025-01-27T17:47:22.516Z"
   },
   {
    "duration": 21,
    "start_time": "2025-01-27T17:48:37.439Z"
   },
   {
    "duration": 22,
    "start_time": "2025-01-27T17:48:50.329Z"
   },
   {
    "duration": 26,
    "start_time": "2025-01-27T17:48:59.367Z"
   },
   {
    "duration": 23,
    "start_time": "2025-01-27T17:49:05.499Z"
   },
   {
    "duration": 19,
    "start_time": "2025-01-27T17:49:23.331Z"
   },
   {
    "duration": 23,
    "start_time": "2025-01-27T17:49:27.927Z"
   },
   {
    "duration": 6,
    "start_time": "2025-01-27T17:49:31.827Z"
   },
   {
    "duration": 96,
    "start_time": "2025-01-27T17:54:03.054Z"
   },
   {
    "duration": 2063,
    "start_time": "2025-01-27T17:54:14.814Z"
   },
   {
    "duration": 175,
    "start_time": "2025-01-27T17:54:34.730Z"
   },
   {
    "duration": 271,
    "start_time": "2025-01-27T17:54:38.044Z"
   },
   {
    "duration": 127,
    "start_time": "2025-01-27T17:56:43.838Z"
   },
   {
    "duration": 133,
    "start_time": "2025-01-27T17:56:47.360Z"
   },
   {
    "duration": 22,
    "start_time": "2025-01-27T17:57:27.066Z"
   },
   {
    "duration": 8,
    "start_time": "2025-01-27T17:57:27.733Z"
   },
   {
    "duration": 73,
    "start_time": "2025-01-27T17:57:28.397Z"
   },
   {
    "duration": 102,
    "start_time": "2025-01-27T17:57:28.474Z"
   },
   {
    "duration": 127,
    "start_time": "2025-01-27T17:57:29.144Z"
   },
   {
    "duration": 140,
    "start_time": "2025-01-27T17:57:29.273Z"
   },
   {
    "duration": 127,
    "start_time": "2025-01-27T17:57:44.902Z"
   },
   {
    "duration": 22,
    "start_time": "2025-01-27T18:02:28.788Z"
   },
   {
    "duration": 139,
    "start_time": "2025-01-27T18:02:35.641Z"
   },
   {
    "duration": 21,
    "start_time": "2025-01-27T18:06:33.941Z"
   },
   {
    "duration": 37,
    "start_time": "2025-01-27T18:06:34.006Z"
   },
   {
    "duration": 351,
    "start_time": "2025-01-27T18:06:45.810Z"
   },
   {
    "duration": 63,
    "start_time": "2025-01-27T18:07:00.608Z"
   },
   {
    "duration": 62,
    "start_time": "2025-01-27T18:07:28.222Z"
   },
   {
    "duration": 63,
    "start_time": "2025-01-27T18:07:42.685Z"
   },
   {
    "duration": 60,
    "start_time": "2025-01-27T18:07:55.641Z"
   },
   {
    "duration": 27,
    "start_time": "2025-01-27T18:09:19.541Z"
   },
   {
    "duration": 39,
    "start_time": "2025-01-27T18:11:12.457Z"
   },
   {
    "duration": 17,
    "start_time": "2025-01-27T18:13:04.396Z"
   },
   {
    "duration": 20,
    "start_time": "2025-01-27T18:13:14.855Z"
   },
   {
    "duration": 7,
    "start_time": "2025-01-27T18:13:30.327Z"
   },
   {
    "duration": 7,
    "start_time": "2025-01-27T18:14:39.534Z"
   },
   {
    "duration": 22,
    "start_time": "2025-01-27T18:17:10.905Z"
   },
   {
    "duration": 35,
    "start_time": "2025-01-27T18:17:59.175Z"
   },
   {
    "duration": 50,
    "start_time": "2025-01-27T18:19:12.048Z"
   },
   {
    "duration": 3,
    "start_time": "2025-01-27T18:19:49.384Z"
   },
   {
    "duration": 16,
    "start_time": "2025-01-27T18:21:44.575Z"
   },
   {
    "duration": 24,
    "start_time": "2025-01-27T18:21:49.353Z"
   },
   {
    "duration": 7,
    "start_time": "2025-01-27T18:21:49.428Z"
   },
   {
    "duration": 7,
    "start_time": "2025-01-27T18:22:04.826Z"
   },
   {
    "duration": 6,
    "start_time": "2025-01-27T18:22:45.628Z"
   },
   {
    "duration": 3,
    "start_time": "2025-01-27T18:22:56.477Z"
   },
   {
    "duration": 6,
    "start_time": "2025-01-27T18:23:05.147Z"
   },
   {
    "duration": 5,
    "start_time": "2025-01-27T18:24:28.581Z"
   },
   {
    "duration": 33,
    "start_time": "2025-01-27T18:24:51.347Z"
   },
   {
    "duration": 14,
    "start_time": "2025-01-27T18:25:47.282Z"
   },
   {
    "duration": 32,
    "start_time": "2025-01-27T18:25:55.613Z"
   },
   {
    "duration": 7,
    "start_time": "2025-01-27T18:26:04.739Z"
   },
   {
    "duration": 155,
    "start_time": "2025-01-27T18:26:22.077Z"
   },
   {
    "duration": 8,
    "start_time": "2025-01-27T18:26:30.654Z"
   },
   {
    "duration": 20,
    "start_time": "2025-01-27T18:26:38.043Z"
   },
   {
    "duration": 18,
    "start_time": "2025-01-27T18:26:52.549Z"
   },
   {
    "duration": 92,
    "start_time": "2025-01-27T18:27:58.265Z"
   },
   {
    "duration": 8,
    "start_time": "2025-01-27T18:28:02.278Z"
   },
   {
    "duration": 97,
    "start_time": "2025-01-27T18:28:02.289Z"
   },
   {
    "duration": 0,
    "start_time": "2025-01-27T18:28:02.388Z"
   },
   {
    "duration": 13,
    "start_time": "2025-01-27T18:28:09.466Z"
   },
   {
    "duration": 32,
    "start_time": "2025-01-27T18:28:09.502Z"
   },
   {
    "duration": 6,
    "start_time": "2025-01-27T18:28:10.258Z"
   },
   {
    "duration": 92,
    "start_time": "2025-01-27T18:28:18.025Z"
   },
   {
    "duration": 10,
    "start_time": "2025-01-27T18:28:18.119Z"
   },
   {
    "duration": 19,
    "start_time": "2025-01-27T18:28:18.934Z"
   },
   {
    "duration": 4,
    "start_time": "2025-01-27T18:29:42.783Z"
   },
   {
    "duration": 14,
    "start_time": "2025-01-27T18:29:51.769Z"
   },
   {
    "duration": 44,
    "start_time": "2025-01-27T18:29:52.151Z"
   },
   {
    "duration": 7,
    "start_time": "2025-01-27T18:29:52.215Z"
   },
   {
    "duration": 97,
    "start_time": "2025-01-27T18:29:52.268Z"
   },
   {
    "duration": 21,
    "start_time": "2025-01-27T18:32:05.833Z"
   },
   {
    "duration": 5,
    "start_time": "2025-01-27T18:32:16.551Z"
   },
   {
    "duration": 32,
    "start_time": "2025-01-27T18:32:32.755Z"
   },
   {
    "duration": 15,
    "start_time": "2025-01-27T18:33:15.798Z"
   },
   {
    "duration": 74,
    "start_time": "2025-01-27T18:33:39.774Z"
   },
   {
    "duration": 28,
    "start_time": "2025-01-27T18:35:28.388Z"
   },
   {
    "duration": 20,
    "start_time": "2025-01-27T18:35:40.587Z"
   },
   {
    "duration": 18,
    "start_time": "2025-01-27T18:35:45.727Z"
   },
   {
    "duration": 92,
    "start_time": "2025-01-27T18:36:05.767Z"
   },
   {
    "duration": 91,
    "start_time": "2025-01-27T18:36:16.291Z"
   },
   {
    "duration": 5,
    "start_time": "2025-01-27T18:36:23.613Z"
   },
   {
    "duration": 7,
    "start_time": "2025-01-27T18:36:27.203Z"
   },
   {
    "duration": 424,
    "start_time": "2025-01-27T18:36:39.593Z"
   },
   {
    "duration": 0,
    "start_time": "2025-01-27T18:36:40.019Z"
   },
   {
    "duration": 21,
    "start_time": "2025-01-27T18:36:43.366Z"
   },
   {
    "duration": 18,
    "start_time": "2025-01-27T18:36:44.112Z"
   },
   {
    "duration": 5,
    "start_time": "2025-01-27T18:36:44.982Z"
   },
   {
    "duration": 92,
    "start_time": "2025-01-27T18:36:48.426Z"
   },
   {
    "duration": 165,
    "start_time": "2025-01-27T18:37:17.135Z"
   },
   {
    "duration": 5,
    "start_time": "2025-01-27T18:38:05.216Z"
   },
   {
    "duration": 45,
    "start_time": "2025-01-27T18:38:47.695Z"
   },
   {
    "duration": 7,
    "start_time": "2025-01-27T18:39:18.910Z"
   },
   {
    "duration": 7,
    "start_time": "2025-01-27T18:39:34.551Z"
   },
   {
    "duration": 18,
    "start_time": "2025-01-27T18:41:51.694Z"
   },
   {
    "duration": 8,
    "start_time": "2025-01-27T18:42:53.665Z"
   },
   {
    "duration": 5,
    "start_time": "2025-01-27T18:43:01.024Z"
   },
   {
    "duration": 32,
    "start_time": "2025-01-27T18:43:16.581Z"
   },
   {
    "duration": 742,
    "start_time": "2025-01-27T18:44:32.357Z"
   },
   {
    "duration": 25,
    "start_time": "2025-01-27T18:47:40.004Z"
   },
   {
    "duration": 334,
    "start_time": "2025-01-27T18:49:05.279Z"
   },
   {
    "duration": 333,
    "start_time": "2025-01-27T18:49:20.251Z"
   },
   {
    "duration": 837,
    "start_time": "2025-01-27T18:50:48.282Z"
   },
   {
    "duration": 60,
    "start_time": "2025-01-27T18:50:58.951Z"
   },
   {
    "duration": 103,
    "start_time": "2025-01-27T18:51:14.725Z"
   },
   {
    "duration": 83,
    "start_time": "2025-01-27T18:51:22.946Z"
   },
   {
    "duration": 63,
    "start_time": "2025-01-27T18:51:47.408Z"
   },
   {
    "duration": 103,
    "start_time": "2025-01-27T18:51:50.853Z"
   },
   {
    "duration": 63,
    "start_time": "2025-01-27T18:51:52.582Z"
   },
   {
    "duration": 26,
    "start_time": "2025-01-27T18:52:04.139Z"
   },
   {
    "duration": 706,
    "start_time": "2025-01-27T18:52:23.914Z"
   },
   {
    "duration": 16,
    "start_time": "2025-01-27T18:53:12.703Z"
   },
   {
    "duration": 29,
    "start_time": "2025-01-27T18:53:23.356Z"
   },
   {
    "duration": 20,
    "start_time": "2025-01-27T18:53:53.083Z"
   },
   {
    "duration": 7,
    "start_time": "2025-01-27T18:54:08.136Z"
   },
   {
    "duration": 4,
    "start_time": "2025-01-27T18:54:21.934Z"
   },
   {
    "duration": 60,
    "start_time": "2025-01-27T18:54:26.238Z"
   },
   {
    "duration": 64,
    "start_time": "2025-01-27T18:58:01.934Z"
   },
   {
    "duration": 61,
    "start_time": "2025-01-27T18:58:56.710Z"
   },
   {
    "duration": 37,
    "start_time": "2025-01-27T18:59:36.157Z"
   },
   {
    "duration": 8,
    "start_time": "2025-01-27T18:59:45.318Z"
   },
   {
    "duration": 29,
    "start_time": "2025-01-27T19:00:02.082Z"
   },
   {
    "duration": 15,
    "start_time": "2025-01-27T19:00:13.489Z"
   },
   {
    "duration": 8,
    "start_time": "2025-01-27T19:00:23.678Z"
   },
   {
    "duration": 42,
    "start_time": "2025-01-27T19:00:31.753Z"
   },
   {
    "duration": 786,
    "start_time": "2025-01-27T19:02:42.688Z"
   },
   {
    "duration": 23,
    "start_time": "2025-01-27T19:02:59.554Z"
   },
   {
    "duration": 7,
    "start_time": "2025-01-27T19:03:00.329Z"
   },
   {
    "duration": 29,
    "start_time": "2025-01-27T19:03:00.384Z"
   },
   {
    "duration": 23,
    "start_time": "2025-01-27T19:03:36.031Z"
   },
   {
    "duration": 9,
    "start_time": "2025-01-27T19:03:36.105Z"
   },
   {
    "duration": 9,
    "start_time": "2025-01-27T19:03:55.719Z"
   },
   {
    "duration": 28,
    "start_time": "2025-01-27T19:04:07.271Z"
   },
   {
    "duration": 12,
    "start_time": "2025-01-27T19:04:57.594Z"
   },
   {
    "duration": 6,
    "start_time": "2025-01-27T19:05:09.993Z"
   },
   {
    "duration": 10,
    "start_time": "2025-01-27T19:05:36.039Z"
   },
   {
    "duration": 35,
    "start_time": "2025-01-27T19:05:45.166Z"
   },
   {
    "duration": 8,
    "start_time": "2025-01-27T19:05:45.947Z"
   },
   {
    "duration": 7,
    "start_time": "2025-01-27T19:05:48.073Z"
   },
   {
    "duration": 6,
    "start_time": "2025-01-27T19:05:50.688Z"
   },
   {
    "duration": 4,
    "start_time": "2025-01-27T19:08:19.849Z"
   },
   {
    "duration": 8,
    "start_time": "2025-01-27T19:08:54.533Z"
   },
   {
    "duration": 370,
    "start_time": "2025-01-27T19:09:35.982Z"
   },
   {
    "duration": 4,
    "start_time": "2025-01-27T19:11:45.793Z"
   },
   {
    "duration": 7,
    "start_time": "2025-01-27T19:12:03.881Z"
   },
   {
    "duration": 7,
    "start_time": "2025-01-27T19:12:12.153Z"
   },
   {
    "duration": 691,
    "start_time": "2025-01-27T19:12:18.301Z"
   },
   {
    "duration": 34,
    "start_time": "2025-01-27T19:12:29.400Z"
   },
   {
    "duration": 35,
    "start_time": "2025-01-27T19:12:43.024Z"
   },
   {
    "duration": 35,
    "start_time": "2025-01-27T19:13:18.741Z"
   },
   {
    "duration": 22,
    "start_time": "2025-01-27T19:15:49.028Z"
   },
   {
    "duration": 35,
    "start_time": "2025-01-27T19:15:59.888Z"
   },
   {
    "duration": 6,
    "start_time": "2025-01-27T19:23:16.284Z"
   },
   {
    "duration": 7,
    "start_time": "2025-01-27T19:23:17.795Z"
   },
   {
    "duration": 6,
    "start_time": "2025-01-27T19:24:37.900Z"
   },
   {
    "duration": 7,
    "start_time": "2025-01-27T19:24:51.952Z"
   },
   {
    "duration": 22,
    "start_time": "2025-01-27T19:26:43.280Z"
   },
   {
    "duration": 24,
    "start_time": "2025-01-27T19:28:54.574Z"
   },
   {
    "duration": 11,
    "start_time": "2025-01-27T19:29:00.610Z"
   },
   {
    "duration": 23,
    "start_time": "2025-01-27T19:29:20.254Z"
   },
   {
    "duration": 7,
    "start_time": "2025-01-27T19:30:11.813Z"
   },
   {
    "duration": 5,
    "start_time": "2025-01-27T19:30:19.330Z"
   },
   {
    "duration": 5,
    "start_time": "2025-01-27T19:30:27.145Z"
   },
   {
    "duration": 6,
    "start_time": "2025-01-27T19:30:41.098Z"
   },
   {
    "duration": 803,
    "start_time": "2025-01-27T19:30:48.837Z"
   },
   {
    "duration": 24,
    "start_time": "2025-01-27T19:31:01.951Z"
   },
   {
    "duration": 17,
    "start_time": "2025-01-27T19:31:27.061Z"
   },
   {
    "duration": 812,
    "start_time": "2025-01-27T19:39:54.604Z"
   },
   {
    "duration": 23,
    "start_time": "2025-01-27T19:39:57.595Z"
   },
   {
    "duration": 20,
    "start_time": "2025-01-27T19:40:49.977Z"
   },
   {
    "duration": 21,
    "start_time": "2025-01-27T19:43:26.882Z"
   },
   {
    "duration": 3,
    "start_time": "2025-01-27T19:44:42.248Z"
   },
   {
    "duration": 31,
    "start_time": "2025-01-27T19:45:02.584Z"
   },
   {
    "duration": 811,
    "start_time": "2025-01-27T19:45:09.980Z"
   },
   {
    "duration": 3,
    "start_time": "2025-01-27T19:45:10.820Z"
   },
   {
    "duration": 3,
    "start_time": "2025-01-27T19:45:26.189Z"
   },
   {
    "duration": 3,
    "start_time": "2025-01-27T19:46:01.644Z"
   },
   {
    "duration": 4,
    "start_time": "2025-01-27T19:46:01.656Z"
   },
   {
    "duration": 4,
    "start_time": "2025-01-27T19:46:04.711Z"
   },
   {
    "duration": 24,
    "start_time": "2025-01-27T19:46:24.382Z"
   },
   {
    "duration": 11,
    "start_time": "2025-01-27T19:46:24.920Z"
   },
   {
    "duration": 24,
    "start_time": "2025-01-27T19:46:25.475Z"
   },
   {
    "duration": 7,
    "start_time": "2025-01-27T19:46:26.079Z"
   },
   {
    "duration": 5,
    "start_time": "2025-01-27T19:46:26.725Z"
   },
   {
    "duration": 5,
    "start_time": "2025-01-27T19:46:26.982Z"
   },
   {
    "duration": 5,
    "start_time": "2025-01-27T19:46:27.063Z"
   },
   {
    "duration": 821,
    "start_time": "2025-01-27T19:46:27.308Z"
   },
   {
    "duration": 21,
    "start_time": "2025-01-27T19:47:45.731Z"
   },
   {
    "duration": 17,
    "start_time": "2025-01-27T19:48:01.568Z"
   },
   {
    "duration": 769,
    "start_time": "2025-01-27T19:55:16.118Z"
   },
   {
    "duration": 20,
    "start_time": "2025-01-27T19:55:36.263Z"
   },
   {
    "duration": 16,
    "start_time": "2025-01-27T19:55:44.339Z"
   },
   {
    "duration": 14,
    "start_time": "2025-01-27T19:56:02.994Z"
   },
   {
    "duration": 20,
    "start_time": "2025-01-27T19:56:41.938Z"
   },
   {
    "duration": 2429,
    "start_time": "2025-01-27T19:57:19.370Z"
   },
   {
    "duration": 327,
    "start_time": "2025-01-27T19:57:40.503Z"
   },
   {
    "duration": 11,
    "start_time": "2025-01-27T19:57:40.832Z"
   },
   {
    "duration": 22,
    "start_time": "2025-01-27T19:57:40.945Z"
   },
   {
    "duration": 7,
    "start_time": "2025-01-27T19:57:41.422Z"
   },
   {
    "duration": 5,
    "start_time": "2025-01-27T19:57:41.712Z"
   },
   {
    "duration": 6,
    "start_time": "2025-01-27T19:57:41.737Z"
   },
   {
    "duration": 1219,
    "start_time": "2025-01-27T19:57:41.784Z"
   },
   {
    "duration": 218,
    "start_time": "2025-01-27T19:57:43.009Z"
   },
   {
    "duration": 0,
    "start_time": "2025-01-27T19:57:43.229Z"
   },
   {
    "duration": 2302,
    "start_time": "2025-01-27T19:57:48.795Z"
   },
   {
    "duration": 24,
    "start_time": "2025-01-27T19:58:34.390Z"
   },
   {
    "duration": 11,
    "start_time": "2025-01-27T19:58:34.462Z"
   },
   {
    "duration": 22,
    "start_time": "2025-01-27T19:58:34.653Z"
   },
   {
    "duration": 8,
    "start_time": "2025-01-27T19:58:34.799Z"
   },
   {
    "duration": 4,
    "start_time": "2025-01-27T19:58:34.974Z"
   },
   {
    "duration": 4,
    "start_time": "2025-01-27T19:58:35.294Z"
   },
   {
    "duration": 798,
    "start_time": "2025-01-27T19:58:35.364Z"
   },
   {
    "duration": 22,
    "start_time": "2025-01-27T19:58:36.164Z"
   },
   {
    "duration": 0,
    "start_time": "2025-01-27T19:58:36.188Z"
   },
   {
    "duration": 155,
    "start_time": "2025-01-27T19:58:47.940Z"
   },
   {
    "duration": 4,
    "start_time": "2025-01-27T19:59:00.980Z"
   },
   {
    "duration": 323,
    "start_time": "2025-01-27T19:59:06.966Z"
   },
   {
    "duration": 19,
    "start_time": "2025-01-27T19:59:07.291Z"
   },
   {
    "duration": 24,
    "start_time": "2025-01-27T19:59:07.311Z"
   },
   {
    "duration": 7,
    "start_time": "2025-01-27T19:59:07.422Z"
   },
   {
    "duration": 4,
    "start_time": "2025-01-27T19:59:07.496Z"
   },
   {
    "duration": 5,
    "start_time": "2025-01-27T19:59:07.502Z"
   },
   {
    "duration": 1257,
    "start_time": "2025-01-27T19:59:07.547Z"
   },
   {
    "duration": 76,
    "start_time": "2025-01-27T19:59:08.808Z"
   },
   {
    "duration": 4,
    "start_time": "2025-01-27T19:59:16.562Z"
   },
   {
    "duration": 764,
    "start_time": "2025-01-27T19:59:20.937Z"
   },
   {
    "duration": 2154,
    "start_time": "2025-01-27T19:59:28.132Z"
   },
   {
    "duration": 22,
    "start_time": "2025-01-27T20:00:46.833Z"
   },
   {
    "duration": 16,
    "start_time": "2025-01-27T20:01:22.758Z"
   },
   {
    "duration": 10,
    "start_time": "2025-01-27T20:01:22.789Z"
   },
   {
    "duration": 671,
    "start_time": "2025-01-27T20:01:23.680Z"
   },
   {
    "duration": 0,
    "start_time": "2025-01-27T20:01:24.353Z"
   },
   {
    "duration": 0,
    "start_time": "2025-01-27T20:01:24.354Z"
   },
   {
    "duration": 0,
    "start_time": "2025-01-27T20:01:24.355Z"
   },
   {
    "duration": 0,
    "start_time": "2025-01-27T20:01:24.356Z"
   },
   {
    "duration": 12,
    "start_time": "2025-01-27T20:01:24.409Z"
   },
   {
    "duration": 14,
    "start_time": "2025-01-27T20:01:44.216Z"
   },
   {
    "duration": 3,
    "start_time": "2025-01-27T20:02:39.133Z"
   },
   {
    "duration": 22,
    "start_time": "2025-01-27T20:02:54.891Z"
   },
   {
    "duration": 14,
    "start_time": "2025-01-27T20:03:02.543Z"
   },
   {
    "duration": 15,
    "start_time": "2025-01-27T20:03:28.809Z"
   },
   {
    "duration": 769,
    "start_time": "2025-01-27T20:04:23.738Z"
   },
   {
    "duration": 18,
    "start_time": "2025-01-27T20:08:01.259Z"
   },
   {
    "duration": 10,
    "start_time": "2025-01-27T20:08:01.348Z"
   },
   {
    "duration": 26,
    "start_time": "2025-01-27T20:08:07.253Z"
   },
   {
    "duration": 12,
    "start_time": "2025-01-27T20:08:07.334Z"
   },
   {
    "duration": 28,
    "start_time": "2025-01-27T20:08:09.960Z"
   },
   {
    "duration": 7,
    "start_time": "2025-01-27T20:08:10.193Z"
   },
   {
    "duration": 4,
    "start_time": "2025-01-27T20:08:10.394Z"
   },
   {
    "duration": 5,
    "start_time": "2025-01-27T20:08:10.667Z"
   },
   {
    "duration": 765,
    "start_time": "2025-01-27T20:08:10.899Z"
   },
   {
    "duration": 807,
    "start_time": "2025-01-27T20:12:05.072Z"
   },
   {
    "duration": 10,
    "start_time": "2025-01-27T20:12:24.889Z"
   },
   {
    "duration": 15,
    "start_time": "2025-01-27T20:13:05.261Z"
   },
   {
    "duration": 15,
    "start_time": "2025-01-27T20:13:20.330Z"
   },
   {
    "duration": 15,
    "start_time": "2025-01-27T20:13:42.777Z"
   },
   {
    "duration": 23,
    "start_time": "2025-01-27T20:13:47.056Z"
   },
   {
    "duration": 10,
    "start_time": "2025-01-27T20:13:47.103Z"
   },
   {
    "duration": 32,
    "start_time": "2025-01-27T20:13:47.180Z"
   },
   {
    "duration": 9,
    "start_time": "2025-01-27T20:13:47.272Z"
   },
   {
    "duration": 5,
    "start_time": "2025-01-27T20:13:47.396Z"
   },
   {
    "duration": 6,
    "start_time": "2025-01-27T20:13:47.550Z"
   },
   {
    "duration": 845,
    "start_time": "2025-01-27T20:13:47.690Z"
   },
   {
    "duration": 830,
    "start_time": "2025-01-27T20:13:48.538Z"
   },
   {
    "duration": 12,
    "start_time": "2025-01-27T20:13:49.370Z"
   },
   {
    "duration": 25,
    "start_time": "2025-01-27T20:13:49.383Z"
   },
   {
    "duration": 20,
    "start_time": "2025-01-27T20:22:51.614Z"
   },
   {
    "duration": 14,
    "start_time": "2025-01-27T20:23:18.315Z"
   },
   {
    "duration": 38,
    "start_time": "2025-01-27T20:23:32.225Z"
   },
   {
    "duration": 308,
    "start_time": "2025-01-27T20:24:17.050Z"
   },
   {
    "duration": 23,
    "start_time": "2025-01-27T20:25:47.790Z"
   },
   {
    "duration": 11,
    "start_time": "2025-01-27T20:25:47.946Z"
   },
   {
    "duration": 25,
    "start_time": "2025-01-27T20:25:48.095Z"
   },
   {
    "duration": 8,
    "start_time": "2025-01-27T20:25:48.236Z"
   },
   {
    "duration": 5,
    "start_time": "2025-01-27T20:25:48.403Z"
   },
   {
    "duration": 5,
    "start_time": "2025-01-27T20:25:48.535Z"
   },
   {
    "duration": 775,
    "start_time": "2025-01-27T20:25:48.703Z"
   },
   {
    "duration": 817,
    "start_time": "2025-01-27T20:25:49.480Z"
   },
   {
    "duration": 130,
    "start_time": "2025-01-27T20:25:50.300Z"
   },
   {
    "duration": 19,
    "start_time": "2025-01-27T20:26:01.035Z"
   },
   {
    "duration": 98,
    "start_time": "2025-01-27T20:26:04.015Z"
   },
   {
    "duration": 25,
    "start_time": "2025-01-27T20:32:47.070Z"
   },
   {
    "duration": 22,
    "start_time": "2025-01-27T20:42:25.000Z"
   },
   {
    "duration": 163,
    "start_time": "2025-01-28T00:06:46.091Z"
   },
   {
    "duration": 0,
    "start_time": "2025-01-28T00:06:46.256Z"
   },
   {
    "duration": 334,
    "start_time": "2025-01-28T00:06:51.381Z"
   },
   {
    "duration": 12,
    "start_time": "2025-01-28T00:06:51.716Z"
   },
   {
    "duration": 22,
    "start_time": "2025-01-28T00:06:51.730Z"
   },
   {
    "duration": 8,
    "start_time": "2025-01-28T00:06:53.080Z"
   },
   {
    "duration": 4,
    "start_time": "2025-01-28T00:06:53.134Z"
   },
   {
    "duration": 7,
    "start_time": "2025-01-28T00:06:53.180Z"
   },
   {
    "duration": 1283,
    "start_time": "2025-01-28T00:06:53.224Z"
   },
   {
    "duration": 811,
    "start_time": "2025-01-28T00:06:54.678Z"
   },
   {
    "duration": 84,
    "start_time": "2025-01-28T00:11:23.437Z"
   },
   {
    "duration": 22,
    "start_time": "2025-01-28T00:12:11.708Z"
   },
   {
    "duration": 11,
    "start_time": "2025-01-28T00:12:12.249Z"
   },
   {
    "duration": 24,
    "start_time": "2025-01-28T00:12:12.812Z"
   },
   {
    "duration": 7,
    "start_time": "2025-01-28T00:12:13.292Z"
   },
   {
    "duration": 4,
    "start_time": "2025-01-28T00:12:13.743Z"
   },
   {
    "duration": 5,
    "start_time": "2025-01-28T00:12:14.156Z"
   },
   {
    "duration": 767,
    "start_time": "2025-01-28T00:12:14.781Z"
   },
   {
    "duration": 815,
    "start_time": "2025-01-28T00:12:15.550Z"
   },
   {
    "duration": 26,
    "start_time": "2025-01-28T00:13:21.329Z"
   },
   {
    "duration": 12,
    "start_time": "2025-01-28T00:13:21.642Z"
   },
   {
    "duration": 22,
    "start_time": "2025-01-28T00:13:21.858Z"
   },
   {
    "duration": 7,
    "start_time": "2025-01-28T00:13:22.078Z"
   },
   {
    "duration": 4,
    "start_time": "2025-01-28T00:13:22.514Z"
   },
   {
    "duration": 5,
    "start_time": "2025-01-28T00:13:22.885Z"
   },
   {
    "duration": 764,
    "start_time": "2025-01-28T00:13:25.261Z"
   },
   {
    "duration": 21,
    "start_time": "2025-01-28T00:14:39.347Z"
   },
   {
    "duration": 16,
    "start_time": "2025-01-28T00:15:19.557Z"
   },
   {
    "duration": 806,
    "start_time": "2025-01-28T00:15:31.963Z"
   },
   {
    "duration": 16,
    "start_time": "2025-01-28T00:21:40.622Z"
   },
   {
    "duration": 2008,
    "start_time": "2025-01-28T00:21:58.796Z"
   },
   {
    "duration": 25,
    "start_time": "2025-01-28T00:22:12.796Z"
   },
   {
    "duration": 12,
    "start_time": "2025-01-28T00:22:13.119Z"
   },
   {
    "duration": 23,
    "start_time": "2025-01-28T00:22:13.152Z"
   },
   {
    "duration": 7,
    "start_time": "2025-01-28T00:22:13.504Z"
   },
   {
    "duration": 5,
    "start_time": "2025-01-28T00:22:13.935Z"
   },
   {
    "duration": 168,
    "start_time": "2025-01-28T00:22:15.037Z"
   },
   {
    "duration": 5,
    "start_time": "2025-01-28T00:22:51.196Z"
   },
   {
    "duration": 100,
    "start_time": "2025-01-28T00:22:51.234Z"
   },
   {
    "duration": 784,
    "start_time": "2025-01-28T00:22:51.336Z"
   },
   {
    "duration": 966,
    "start_time": "2025-01-28T14:38:43.649Z"
   },
   {
    "duration": 12,
    "start_time": "2025-01-28T14:38:44.617Z"
   },
   {
    "duration": 23,
    "start_time": "2025-01-28T14:38:44.630Z"
   },
   {
    "duration": 8,
    "start_time": "2025-01-28T14:38:44.655Z"
   },
   {
    "duration": 3,
    "start_time": "2025-01-28T14:38:44.665Z"
   },
   {
    "duration": 6,
    "start_time": "2025-01-28T14:38:44.670Z"
   },
   {
    "duration": 189,
    "start_time": "2025-01-28T14:38:44.679Z"
   },
   {
    "duration": 785,
    "start_time": "2025-01-28T14:38:44.870Z"
   },
   {
    "duration": 799,
    "start_time": "2025-01-28T14:38:45.657Z"
   },
   {
    "duration": 159,
    "start_time": "2025-02-08T17:04:56.645Z"
   },
   {
    "duration": 16,
    "start_time": "2025-02-08T17:07:15.531Z"
   },
   {
    "duration": 13,
    "start_time": "2025-02-08T17:08:50.004Z"
   },
   {
    "duration": 13,
    "start_time": "2025-02-08T17:09:04.327Z"
   },
   {
    "duration": 12,
    "start_time": "2025-02-08T17:09:31.563Z"
   },
   {
    "duration": 2697,
    "start_time": "2025-02-08T17:10:07.744Z"
   },
   {
    "duration": 0,
    "start_time": "2025-02-08T17:10:10.444Z"
   },
   {
    "duration": 0,
    "start_time": "2025-02-08T17:10:10.445Z"
   },
   {
    "duration": 0,
    "start_time": "2025-02-08T17:10:10.446Z"
   },
   {
    "duration": 0,
    "start_time": "2025-02-08T17:10:10.447Z"
   },
   {
    "duration": 0,
    "start_time": "2025-02-08T17:10:10.448Z"
   },
   {
    "duration": 0,
    "start_time": "2025-02-08T17:10:10.450Z"
   },
   {
    "duration": 14,
    "start_time": "2025-02-08T17:10:10.499Z"
   },
   {
    "duration": 16,
    "start_time": "2025-02-08T17:10:10.647Z"
   },
   {
    "duration": 15,
    "start_time": "2025-02-08T17:10:10.849Z"
   },
   {
    "duration": 17,
    "start_time": "2025-02-08T17:10:13.584Z"
   },
   {
    "duration": 16,
    "start_time": "2025-02-08T17:10:34.011Z"
   },
   {
    "duration": 14,
    "start_time": "2025-02-08T17:10:34.825Z"
   },
   {
    "duration": 13,
    "start_time": "2025-02-08T17:10:34.879Z"
   },
   {
    "duration": 15,
    "start_time": "2025-02-08T17:10:35.617Z"
   },
   {
    "duration": 14,
    "start_time": "2025-02-08T17:10:35.985Z"
   },
   {
    "duration": 13,
    "start_time": "2025-02-08T17:10:36.092Z"
   },
   {
    "duration": 17,
    "start_time": "2025-02-08T17:10:36.448Z"
   },
   {
    "duration": 71,
    "start_time": "2025-02-08T17:10:36.800Z"
   },
   {
    "duration": 15,
    "start_time": "2025-02-08T17:10:36.977Z"
   },
   {
    "duration": 14,
    "start_time": "2025-02-08T17:10:37.297Z"
   },
   {
    "duration": 15,
    "start_time": "2025-02-08T17:10:43.187Z"
   },
   {
    "duration": 15,
    "start_time": "2025-02-08T17:10:43.895Z"
   },
   {
    "duration": 13,
    "start_time": "2025-02-08T17:10:44.792Z"
   },
   {
    "duration": 13,
    "start_time": "2025-02-08T17:10:46.643Z"
   },
   {
    "duration": 19,
    "start_time": "2025-02-08T17:11:20.151Z"
   },
   {
    "duration": 38,
    "start_time": "2025-02-08T17:11:32.221Z"
   },
   {
    "duration": 15,
    "start_time": "2025-02-08T17:11:33.383Z"
   },
   {
    "duration": 23,
    "start_time": "2025-02-08T17:11:34.009Z"
   },
   {
    "duration": 7,
    "start_time": "2025-02-08T17:11:34.945Z"
   },
   {
    "duration": 5,
    "start_time": "2025-02-08T17:11:35.476Z"
   },
   {
    "duration": 7,
    "start_time": "2025-02-08T17:11:35.737Z"
   },
   {
    "duration": 114,
    "start_time": "2025-02-08T17:11:35.975Z"
   },
   {
    "duration": 781,
    "start_time": "2025-02-08T17:11:36.477Z"
   },
   {
    "duration": 805,
    "start_time": "2025-02-08T17:11:37.260Z"
   },
   {
    "duration": 19,
    "start_time": "2025-02-08T17:11:38.068Z"
   },
   {
    "duration": 14,
    "start_time": "2025-02-08T17:14:40.850Z"
   },
   {
    "duration": 19,
    "start_time": "2025-02-08T17:15:03.072Z"
   },
   {
    "duration": 24,
    "start_time": "2025-02-08T17:15:11.728Z"
   },
   {
    "duration": 18,
    "start_time": "2025-02-08T17:15:48.708Z"
   },
   {
    "duration": 11,
    "start_time": "2025-02-08T17:15:48.752Z"
   },
   {
    "duration": 18,
    "start_time": "2025-02-08T17:21:03.042Z"
   },
   {
    "duration": 11,
    "start_time": "2025-02-08T17:21:03.098Z"
   },
   {
    "duration": 17,
    "start_time": "2025-02-08T17:26:34.371Z"
   },
   {
    "duration": 19,
    "start_time": "2025-02-08T17:42:13.301Z"
   },
   {
    "duration": 16,
    "start_time": "2025-02-08T17:42:33.204Z"
   },
   {
    "duration": 21,
    "start_time": "2025-02-08T17:44:53.150Z"
   },
   {
    "duration": 12,
    "start_time": "2025-02-08T17:44:53.215Z"
   },
   {
    "duration": 17,
    "start_time": "2025-02-08T17:44:56.142Z"
   },
   {
    "duration": 23,
    "start_time": "2025-02-08T17:45:00.842Z"
   },
   {
    "duration": 12,
    "start_time": "2025-02-08T17:45:00.925Z"
   },
   {
    "duration": 20,
    "start_time": "2025-02-08T17:45:34.009Z"
   },
   {
    "duration": 22,
    "start_time": "2025-02-08T17:45:40.017Z"
   },
   {
    "duration": 16,
    "start_time": "2025-02-08T17:45:51.728Z"
   },
   {
    "duration": 17,
    "start_time": "2025-02-08T17:46:56.222Z"
   },
   {
    "duration": 18,
    "start_time": "2025-02-08T17:47:19.704Z"
   },
   {
    "duration": 17,
    "start_time": "2025-02-08T17:53:51.492Z"
   },
   {
    "duration": 11,
    "start_time": "2025-02-08T17:53:51.595Z"
   },
   {
    "duration": 24,
    "start_time": "2025-02-08T17:53:53.999Z"
   },
   {
    "duration": 24,
    "start_time": "2025-02-08T17:54:47.639Z"
   },
   {
    "duration": 13,
    "start_time": "2025-02-08T17:54:48.372Z"
   },
   {
    "duration": 11,
    "start_time": "2025-02-08T17:54:48.417Z"
   },
   {
    "duration": 22,
    "start_time": "2025-02-08T17:54:49.025Z"
   },
   {
    "duration": 9,
    "start_time": "2025-02-08T17:54:49.394Z"
   },
   {
    "duration": 5,
    "start_time": "2025-02-08T17:54:50.058Z"
   },
   {
    "duration": 5,
    "start_time": "2025-02-08T17:54:50.445Z"
   },
   {
    "duration": 106,
    "start_time": "2025-02-08T17:54:50.626Z"
   },
   {
    "duration": 778,
    "start_time": "2025-02-08T17:54:51.009Z"
   },
   {
    "duration": 820,
    "start_time": "2025-02-08T17:54:51.789Z"
   },
   {
    "duration": 10,
    "start_time": "2025-02-08T17:55:03.383Z"
   },
   {
    "duration": 2920,
    "start_time": "2025-02-08T19:05:37.889Z"
   },
   {
    "duration": 14,
    "start_time": "2025-02-08T19:05:41.660Z"
   },
   {
    "duration": 23,
    "start_time": "2025-02-08T19:07:29.280Z"
   },
   {
    "duration": 14,
    "start_time": "2025-02-08T19:07:34.037Z"
   },
   {
    "duration": 9196,
    "start_time": "2025-02-08T19:08:59.230Z"
   },
   {
    "duration": 9186,
    "start_time": "2025-02-08T21:46:24.689Z"
   },
   {
    "duration": 2841,
    "start_time": "2025-02-08T21:46:33.877Z"
   },
   {
    "duration": 0,
    "start_time": "2025-02-08T21:46:36.720Z"
   },
   {
    "duration": 0,
    "start_time": "2025-02-08T21:46:36.724Z"
   },
   {
    "duration": 0,
    "start_time": "2025-02-08T21:46:36.725Z"
   },
   {
    "duration": 0,
    "start_time": "2025-02-08T21:46:36.726Z"
   },
   {
    "duration": 0,
    "start_time": "2025-02-08T21:46:36.727Z"
   },
   {
    "duration": 0,
    "start_time": "2025-02-08T21:46:36.728Z"
   },
   {
    "duration": 0,
    "start_time": "2025-02-08T21:46:36.729Z"
   },
   {
    "duration": 0,
    "start_time": "2025-02-08T21:46:36.730Z"
   },
   {
    "duration": 25,
    "start_time": "2025-02-08T21:48:57.715Z"
   },
   {
    "duration": 15,
    "start_time": "2025-02-08T21:49:04.624Z"
   },
   {
    "duration": 16,
    "start_time": "2025-02-08T21:49:05.236Z"
   },
   {
    "duration": 18,
    "start_time": "2025-02-08T21:49:05.993Z"
   },
   {
    "duration": 14,
    "start_time": "2025-02-08T21:49:06.653Z"
   },
   {
    "duration": 13,
    "start_time": "2025-02-08T21:49:06.964Z"
   },
   {
    "duration": 13,
    "start_time": "2025-02-08T21:49:07.118Z"
   },
   {
    "duration": 25,
    "start_time": "2025-02-08T21:49:07.286Z"
   },
   {
    "duration": 16,
    "start_time": "2025-02-08T21:49:07.759Z"
   },
   {
    "duration": 16,
    "start_time": "2025-02-08T21:49:07.901Z"
   },
   {
    "duration": 13,
    "start_time": "2025-02-08T21:49:28.134Z"
   },
   {
    "duration": 21,
    "start_time": "2025-02-08T21:49:32.433Z"
   },
   {
    "duration": 13,
    "start_time": "2025-02-08T21:49:33.089Z"
   },
   {
    "duration": 13,
    "start_time": "2025-02-08T21:49:34.231Z"
   },
   {
    "duration": 13,
    "start_time": "2025-02-08T21:50:19.833Z"
   },
   {
    "duration": 14,
    "start_time": "2025-02-08T21:50:20.471Z"
   },
   {
    "duration": 84,
    "start_time": "2025-02-08T21:50:28.359Z"
   },
   {
    "duration": 12,
    "start_time": "2025-02-08T21:50:29.284Z"
   },
   {
    "duration": 22,
    "start_time": "2025-02-08T21:50:29.626Z"
   },
   {
    "duration": 7,
    "start_time": "2025-02-08T21:50:29.975Z"
   },
   {
    "duration": 4,
    "start_time": "2025-02-08T21:50:30.280Z"
   },
   {
    "duration": 6,
    "start_time": "2025-02-08T21:50:30.446Z"
   },
   {
    "duration": 113,
    "start_time": "2025-02-08T21:50:30.608Z"
   },
   {
    "duration": 781,
    "start_time": "2025-02-08T21:50:30.936Z"
   },
   {
    "duration": 808,
    "start_time": "2025-02-08T21:50:31.725Z"
   },
   {
    "duration": 24,
    "start_time": "2025-02-08T21:59:31.409Z"
   },
   {
    "duration": 166,
    "start_time": "2025-02-12T23:10:49.803Z"
   },
   {
    "duration": 13,
    "start_time": "2025-02-12T23:10:54.987Z"
   },
   {
    "duration": 2895,
    "start_time": "2025-02-12T23:16:48.633Z"
   },
   {
    "duration": 0,
    "start_time": "2025-02-12T23:16:51.531Z"
   },
   {
    "duration": 0,
    "start_time": "2025-02-12T23:16:51.533Z"
   },
   {
    "duration": 0,
    "start_time": "2025-02-12T23:16:51.534Z"
   },
   {
    "duration": 0,
    "start_time": "2025-02-12T23:16:51.536Z"
   },
   {
    "duration": 14,
    "start_time": "2025-02-12T23:16:51.579Z"
   },
   {
    "duration": 15,
    "start_time": "2025-02-12T23:16:52.155Z"
   },
   {
    "duration": 14,
    "start_time": "2025-02-12T23:16:53.904Z"
   },
   {
    "duration": 14,
    "start_time": "2025-02-12T23:16:54.630Z"
   },
   {
    "duration": 17,
    "start_time": "2025-02-12T23:16:55.587Z"
   },
   {
    "duration": 35,
    "start_time": "2025-02-12T23:17:07.134Z"
   },
   {
    "duration": 9205,
    "start_time": "2025-02-12T23:17:22.471Z"
   },
   {
    "duration": 24,
    "start_time": "2025-02-12T23:20:35.229Z"
   },
   {
    "duration": 12,
    "start_time": "2025-02-12T23:20:36.067Z"
   },
   {
    "duration": 23,
    "start_time": "2025-02-12T23:20:37.116Z"
   },
   {
    "duration": 9,
    "start_time": "2025-02-12T23:20:38.523Z"
   },
   {
    "duration": 5,
    "start_time": "2025-02-12T23:20:39.767Z"
   },
   {
    "duration": 16,
    "start_time": "2025-02-12T23:20:40.408Z"
   },
   {
    "duration": 127,
    "start_time": "2025-02-12T23:20:41.937Z"
   },
   {
    "duration": 794,
    "start_time": "2025-02-12T23:20:43.230Z"
   },
   {
    "duration": 818,
    "start_time": "2025-02-12T23:20:44.026Z"
   },
   {
    "duration": 25,
    "start_time": "2025-02-12T23:22:22.753Z"
   },
   {
    "duration": 17,
    "start_time": "2025-02-12T23:24:36.695Z"
   },
   {
    "duration": 801,
    "start_time": "2025-02-12T23:24:43.562Z"
   },
   {
    "duration": 14,
    "start_time": "2025-02-12T23:25:10.467Z"
   },
   {
    "duration": 16,
    "start_time": "2025-02-12T23:25:30.249Z"
   },
   {
    "duration": 22,
    "start_time": "2025-02-12T23:26:46.552Z"
   },
   {
    "duration": 812,
    "start_time": "2025-02-12T23:27:35.995Z"
   },
   {
    "duration": 24,
    "start_time": "2025-02-12T23:27:41.157Z"
   },
   {
    "duration": 18,
    "start_time": "2025-02-12T23:28:38.562Z"
   },
   {
    "duration": 9,
    "start_time": "2025-02-12T23:28:38.603Z"
   },
   {
    "duration": 739,
    "start_time": "2025-02-12T23:28:39.503Z"
   },
   {
    "duration": 0,
    "start_time": "2025-02-12T23:28:40.244Z"
   },
   {
    "duration": 3,
    "start_time": "2025-02-12T23:28:40.381Z"
   },
   {
    "duration": 5,
    "start_time": "2025-02-12T23:28:40.535Z"
   },
   {
    "duration": 122,
    "start_time": "2025-02-12T23:28:40.716Z"
   },
   {
    "duration": 781,
    "start_time": "2025-02-12T23:28:41.114Z"
   },
   {
    "duration": 16,
    "start_time": "2025-02-12T23:28:41.897Z"
   },
   {
    "duration": 21,
    "start_time": "2025-02-12T23:35:21.171Z"
   },
   {
    "duration": 9,
    "start_time": "2025-02-12T23:35:22.510Z"
   },
   {
    "duration": 38,
    "start_time": "2025-02-12T23:35:23.027Z"
   },
   {
    "duration": 171,
    "start_time": "2025-02-12T23:35:23.325Z"
   },
   {
    "duration": 4,
    "start_time": "2025-02-12T23:35:23.634Z"
   },
   {
    "duration": 7,
    "start_time": "2025-02-12T23:35:23.801Z"
   },
   {
    "duration": 108,
    "start_time": "2025-02-12T23:35:23.932Z"
   },
   {
    "duration": 787,
    "start_time": "2025-02-12T23:35:24.239Z"
   },
   {
    "duration": 16,
    "start_time": "2025-02-12T23:35:25.031Z"
   },
   {
    "duration": 1423,
    "start_time": "2025-02-12T23:36:21.724Z"
   },
   {
    "duration": 19,
    "start_time": "2025-02-12T23:36:37.463Z"
   },
   {
    "duration": 11,
    "start_time": "2025-02-12T23:36:38.307Z"
   },
   {
    "duration": 50,
    "start_time": "2025-02-12T23:36:39.271Z"
   },
   {
    "duration": 40,
    "start_time": "2025-02-12T23:36:39.948Z"
   },
   {
    "duration": 3,
    "start_time": "2025-02-12T23:36:40.306Z"
   },
   {
    "duration": 6,
    "start_time": "2025-02-12T23:36:40.720Z"
   },
   {
    "duration": 109,
    "start_time": "2025-02-12T23:36:41.218Z"
   },
   {
    "duration": 787,
    "start_time": "2025-02-12T23:36:42.233Z"
   },
   {
    "duration": 18,
    "start_time": "2025-02-12T23:36:43.023Z"
   },
   {
    "duration": 1179,
    "start_time": "2025-02-13T15:27:21.216Z"
   },
   {
    "duration": 0,
    "start_time": "2025-02-13T15:27:22.397Z"
   },
   {
    "duration": 0,
    "start_time": "2025-02-13T15:27:22.402Z"
   },
   {
    "duration": 0,
    "start_time": "2025-02-13T15:27:22.403Z"
   },
   {
    "duration": 0,
    "start_time": "2025-02-13T15:27:22.404Z"
   },
   {
    "duration": 0,
    "start_time": "2025-02-13T15:27:22.405Z"
   },
   {
    "duration": 0,
    "start_time": "2025-02-13T15:27:22.406Z"
   },
   {
    "duration": 0,
    "start_time": "2025-02-13T15:27:22.407Z"
   },
   {
    "duration": 0,
    "start_time": "2025-02-13T15:27:22.408Z"
   },
   {
    "duration": 2467,
    "start_time": "2025-02-13T15:27:36.473Z"
   },
   {
    "duration": 2155,
    "start_time": "2025-02-13T15:27:43.856Z"
   },
   {
    "duration": 1219,
    "start_time": "2025-02-13T15:27:46.015Z"
   },
   {
    "duration": 0,
    "start_time": "2025-02-13T15:27:47.236Z"
   },
   {
    "duration": 0,
    "start_time": "2025-02-13T15:27:47.238Z"
   },
   {
    "duration": 0,
    "start_time": "2025-02-13T15:27:47.238Z"
   },
   {
    "duration": 0,
    "start_time": "2025-02-13T15:27:47.240Z"
   },
   {
    "duration": 0,
    "start_time": "2025-02-13T15:27:47.241Z"
   },
   {
    "duration": 0,
    "start_time": "2025-02-13T15:27:47.242Z"
   },
   {
    "duration": 0,
    "start_time": "2025-02-13T15:27:47.244Z"
   },
   {
    "duration": 0,
    "start_time": "2025-02-13T15:27:47.245Z"
   },
   {
    "duration": 14,
    "start_time": "2025-02-13T15:28:00.201Z"
   },
   {
    "duration": 2914,
    "start_time": "2025-02-13T16:47:18.731Z"
   },
   {
    "duration": 17,
    "start_time": "2025-02-13T16:47:21.648Z"
   },
   {
    "duration": 30,
    "start_time": "2025-02-13T16:47:21.667Z"
   },
   {
    "duration": 31,
    "start_time": "2025-02-13T16:47:21.700Z"
   },
   {
    "duration": 4,
    "start_time": "2025-02-13T16:47:21.733Z"
   },
   {
    "duration": 6,
    "start_time": "2025-02-13T16:47:21.739Z"
   },
   {
    "duration": 146,
    "start_time": "2025-02-13T16:47:21.865Z"
   },
   {
    "duration": 792,
    "start_time": "2025-02-13T16:47:22.176Z"
   },
   {
    "duration": 286,
    "start_time": "2025-02-13T16:47:22.971Z"
   },
   {
    "duration": 160,
    "start_time": "2025-02-13T17:53:58.719Z"
   },
   {
    "duration": 2747,
    "start_time": "2025-02-13T17:54:05.234Z"
   },
   {
    "duration": 11,
    "start_time": "2025-02-13T17:54:07.983Z"
   },
   {
    "duration": 22,
    "start_time": "2025-02-13T17:54:07.996Z"
   },
   {
    "duration": 8,
    "start_time": "2025-02-13T17:54:08.020Z"
   },
   {
    "duration": 4,
    "start_time": "2025-02-13T17:54:08.030Z"
   },
   {
    "duration": 15,
    "start_time": "2025-02-13T17:54:08.035Z"
   },
   {
    "duration": 161,
    "start_time": "2025-02-13T17:54:08.052Z"
   },
   {
    "duration": 781,
    "start_time": "2025-02-13T17:54:08.215Z"
   },
   {
    "duration": 764,
    "start_time": "2025-02-13T17:54:14.676Z"
   },
   {
    "duration": 87,
    "start_time": "2025-02-13T17:54:15.574Z"
   },
   {
    "duration": 956,
    "start_time": "2025-02-13T17:55:24.255Z"
   },
   {
    "duration": 125,
    "start_time": "2025-02-13T17:55:42.204Z"
   },
   {
    "duration": 18,
    "start_time": "2025-02-13T17:56:00.971Z"
   },
   {
    "duration": 14,
    "start_time": "2025-02-13T17:56:33.839Z"
   },
   {
    "duration": 25,
    "start_time": "2025-02-13T17:58:14.658Z"
   },
   {
    "duration": 20,
    "start_time": "2025-02-13T17:59:43.179Z"
   },
   {
    "duration": 91,
    "start_time": "2025-02-13T18:00:30.816Z"
   },
   {
    "duration": 9,
    "start_time": "2025-02-13T18:07:20.911Z"
   },
   {
    "duration": 26,
    "start_time": "2025-02-13T18:07:27.039Z"
   },
   {
    "duration": 96,
    "start_time": "2025-02-13T18:15:48.257Z"
   },
   {
    "duration": 904,
    "start_time": "2025-02-13T19:07:05.168Z"
   },
   {
    "duration": 17,
    "start_time": "2025-02-13T19:07:40.957Z"
   },
   {
    "duration": 2125,
    "start_time": "2025-02-13T19:08:05.184Z"
   },
   {
    "duration": 12,
    "start_time": "2025-02-13T19:08:07.311Z"
   },
   {
    "duration": 23,
    "start_time": "2025-02-13T19:08:07.324Z"
   },
   {
    "duration": 8,
    "start_time": "2025-02-13T19:08:07.349Z"
   },
   {
    "duration": 4,
    "start_time": "2025-02-13T19:08:07.358Z"
   },
   {
    "duration": 6,
    "start_time": "2025-02-13T19:08:07.364Z"
   },
   {
    "duration": 162,
    "start_time": "2025-02-13T19:08:07.372Z"
   },
   {
    "duration": 46,
    "start_time": "2025-02-13T19:08:07.688Z"
   },
   {
    "duration": 20,
    "start_time": "2025-02-13T19:08:07.847Z"
   },
   {
    "duration": 17,
    "start_time": "2025-02-13T19:11:37.486Z"
   },
   {
    "duration": 16,
    "start_time": "2025-02-13T19:11:40.851Z"
   },
   {
    "duration": 17,
    "start_time": "2025-02-13T19:11:40.936Z"
   },
   {
    "duration": 17,
    "start_time": "2025-02-13T19:11:46.051Z"
   },
   {
    "duration": 23,
    "start_time": "2025-02-13T19:11:51.989Z"
   },
   {
    "duration": 12,
    "start_time": "2025-02-13T19:11:52.399Z"
   },
   {
    "duration": 23,
    "start_time": "2025-02-13T19:11:53.167Z"
   },
   {
    "duration": 8,
    "start_time": "2025-02-13T19:11:53.706Z"
   },
   {
    "duration": 5,
    "start_time": "2025-02-13T19:11:54.423Z"
   },
   {
    "duration": 5,
    "start_time": "2025-02-13T19:11:54.826Z"
   },
   {
    "duration": 105,
    "start_time": "2025-02-13T19:11:55.432Z"
   },
   {
    "duration": 16,
    "start_time": "2025-02-13T19:11:56.525Z"
   },
   {
    "duration": 15,
    "start_time": "2025-02-13T19:12:06.684Z"
   },
   {
    "duration": 97,
    "start_time": "2025-02-13T19:12:57.530Z"
   },
   {
    "duration": 14,
    "start_time": "2025-02-13T19:17:37.732Z"
   },
   {
    "duration": 125,
    "start_time": "2025-02-13T19:20:21.821Z"
   },
   {
    "duration": 15,
    "start_time": "2025-02-13T19:20:32.273Z"
   },
   {
    "duration": 5,
    "start_time": "2025-02-13T19:21:09.908Z"
   },
   {
    "duration": 98,
    "start_time": "2025-02-13T19:21:19.828Z"
   },
   {
    "duration": 1139,
    "start_time": "2025-02-13T19:22:13.608Z"
   },
   {
    "duration": 7,
    "start_time": "2025-02-13T19:24:24.979Z"
   },
   {
    "duration": 5,
    "start_time": "2025-02-13T19:24:46.958Z"
   },
   {
    "duration": 18,
    "start_time": "2025-02-13T19:25:05.280Z"
   },
   {
    "duration": 1129,
    "start_time": "2025-02-13T19:25:31.594Z"
   },
   {
    "duration": 5,
    "start_time": "2025-02-13T19:26:43.362Z"
   },
   {
    "duration": 184,
    "start_time": "2025-02-13T19:29:29.742Z"
   },
   {
    "duration": 112,
    "start_time": "2025-02-13T19:30:20.016Z"
   },
   {
    "duration": 2776,
    "start_time": "2025-02-13T19:52:02.463Z"
   },
   {
    "duration": 15,
    "start_time": "2025-02-13T19:52:13.239Z"
   },
   {
    "duration": 17,
    "start_time": "2025-02-13T19:55:57.309Z"
   },
   {
    "duration": 16,
    "start_time": "2025-02-13T19:56:11.541Z"
   },
   {
    "duration": 22,
    "start_time": "2025-02-13T19:56:21.484Z"
   },
   {
    "duration": 15,
    "start_time": "2025-02-13T19:56:35.386Z"
   },
   {
    "duration": 17,
    "start_time": "2025-02-13T19:59:07.269Z"
   },
   {
    "duration": 16,
    "start_time": "2025-02-13T19:59:30.073Z"
   },
   {
    "duration": 15,
    "start_time": "2025-02-13T20:02:24.537Z"
   },
   {
    "duration": 14,
    "start_time": "2025-02-13T20:02:25.327Z"
   },
   {
    "duration": 35,
    "start_time": "2025-02-13T20:02:47.932Z"
   },
   {
    "duration": 263,
    "start_time": "2025-02-13T20:02:57.752Z"
   },
   {
    "duration": 12,
    "start_time": "2025-02-13T20:02:58.017Z"
   },
   {
    "duration": 23,
    "start_time": "2025-02-13T20:02:58.192Z"
   },
   {
    "duration": 8,
    "start_time": "2025-02-13T20:02:58.542Z"
   },
   {
    "duration": 4,
    "start_time": "2025-02-13T20:02:58.887Z"
   },
   {
    "duration": 6,
    "start_time": "2025-02-13T20:02:59.070Z"
   },
   {
    "duration": 114,
    "start_time": "2025-02-13T20:02:59.230Z"
   },
   {
    "duration": 39,
    "start_time": "2025-02-13T20:03:00.010Z"
   },
   {
    "duration": 131,
    "start_time": "2025-02-13T20:03:00.476Z"
   },
   {
    "duration": 126,
    "start_time": "2025-02-13T20:03:00.970Z"
   },
   {
    "duration": 5,
    "start_time": "2025-02-13T20:03:25.471Z"
   },
   {
    "duration": 21,
    "start_time": "2025-02-13T20:04:03.028Z"
   },
   {
    "duration": 64,
    "start_time": "2025-02-13T20:04:09.438Z"
   },
   {
    "duration": 124,
    "start_time": "2025-02-13T20:04:29.286Z"
   },
   {
    "duration": 188,
    "start_time": "2025-02-13T20:09:54.999Z"
   },
   {
    "duration": 21,
    "start_time": "2025-02-13T20:10:34.588Z"
   },
   {
    "duration": 2493,
    "start_time": "2025-02-13T20:11:30.205Z"
   },
   {
    "duration": 25,
    "start_time": "2025-02-13T20:12:29.044Z"
   },
   {
    "duration": 24,
    "start_time": "2025-02-13T20:14:05.354Z"
   },
   {
    "duration": 11,
    "start_time": "2025-02-13T20:14:05.782Z"
   },
   {
    "duration": 23,
    "start_time": "2025-02-13T20:14:06.154Z"
   },
   {
    "duration": 10,
    "start_time": "2025-02-13T20:14:06.628Z"
   },
   {
    "duration": 4,
    "start_time": "2025-02-13T20:14:07.523Z"
   },
   {
    "duration": 5,
    "start_time": "2025-02-13T20:14:08.203Z"
   },
   {
    "duration": 108,
    "start_time": "2025-02-13T20:14:08.825Z"
   },
   {
    "duration": 6,
    "start_time": "2025-02-13T20:14:09.374Z"
   },
   {
    "duration": 162,
    "start_time": "2025-02-13T20:14:10.528Z"
   },
   {
    "duration": 96,
    "start_time": "2025-02-13T20:14:10.692Z"
   },
   {
    "duration": 123,
    "start_time": "2025-02-13T20:15:03.874Z"
   },
   {
    "duration": 27,
    "start_time": "2025-02-13T20:17:32.631Z"
   },
   {
    "duration": 147,
    "start_time": "2025-02-13T20:17:40.059Z"
   },
   {
    "duration": 206,
    "start_time": "2025-02-13T20:17:56.083Z"
   },
   {
    "duration": 123,
    "start_time": "2025-02-13T20:18:28.184Z"
   },
   {
    "duration": 5,
    "start_time": "2025-02-13T20:18:31.046Z"
   },
   {
    "duration": 5,
    "start_time": "2025-02-13T20:18:37.474Z"
   },
   {
    "duration": 205,
    "start_time": "2025-02-13T20:18:38.083Z"
   },
   {
    "duration": 22,
    "start_time": "2025-02-13T20:19:43.719Z"
   },
   {
    "duration": 20,
    "start_time": "2025-02-13T23:42:48.479Z"
   },
   {
    "duration": 21,
    "start_time": "2025-02-14T02:08:50.489Z"
   },
   {
    "duration": 21,
    "start_time": "2025-02-14T02:10:47.233Z"
   },
   {
    "duration": 28,
    "start_time": "2025-02-14T02:11:16.305Z"
   },
   {
    "duration": 11,
    "start_time": "2025-02-14T02:11:16.818Z"
   },
   {
    "duration": 22,
    "start_time": "2025-02-14T02:11:17.507Z"
   },
   {
    "duration": 10,
    "start_time": "2025-02-14T02:11:17.863Z"
   },
   {
    "duration": 5,
    "start_time": "2025-02-14T02:11:18.244Z"
   },
   {
    "duration": 5,
    "start_time": "2025-02-14T02:11:18.640Z"
   },
   {
    "duration": 103,
    "start_time": "2025-02-14T02:11:19.164Z"
   },
   {
    "duration": 5,
    "start_time": "2025-02-14T02:11:19.639Z"
   },
   {
    "duration": 13,
    "start_time": "2025-02-14T02:11:21.573Z"
   },
   {
    "duration": 186,
    "start_time": "2025-02-14T02:11:38.901Z"
   },
   {
    "duration": 12,
    "start_time": "2025-02-14T02:11:39.635Z"
   },
   {
    "duration": 395,
    "start_time": "2025-02-14T02:18:58.349Z"
   },
   {
    "duration": 9,
    "start_time": "2025-02-14T18:33:24.460Z"
   }
  ],
  "kernelspec": {
   "display_name": "Python 3 (ipykernel)",
   "language": "python",
   "name": "python3"
  },
  "language_info": {
   "codemirror_mode": {
    "name": "ipython",
    "version": 3
   },
   "file_extension": ".py",
   "mimetype": "text/x-python",
   "name": "python",
   "nbconvert_exporter": "python",
   "pygments_lexer": "ipython3",
   "version": "3.9.19"
  },
  "toc": {
   "base_numbering": 1,
   "nav_menu": {},
   "number_sections": true,
   "sideBar": true,
   "skip_h1_title": true,
   "title_cell": "Table of Contents",
   "title_sidebar": "Contents",
   "toc_cell": false,
   "toc_position": {},
   "toc_section_display": true,
   "toc_window_display": false
  }
 },
 "nbformat": 4,
 "nbformat_minor": 2
}
